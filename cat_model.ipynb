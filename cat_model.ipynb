{
 "cells": [
  {
   "cell_type": "code",
   "execution_count": 1,
   "id": "c738ecdd-a63a-4813-a9d0-3d89934be786",
   "metadata": {},
   "outputs": [],
   "source": [
    "import pandas as pd \n",
    "import matplotlib.pyplot as plt \n",
    "import numpy as np \n",
    "import seaborn as sns \n",
    "import plotly.express as px\n",
    "import joblib\n",
    "\n",
    "from sklearn.model_selection import cross_val_score\n",
    "from collections import Counter\n",
    "from sklearn.preprocessing import StandardScaler\n",
    "from sklearn.pipeline import Pipeline\n",
    "from sklearn.pipeline import Pipeline as ImbPipeline\n",
    "from sklearn.model_selection import train_test_split\n",
    "from sklearn.metrics import f1_score, classification_report, roc_auc_score, confusion_matrix\n",
    "from matplotlib.colors import ListedColormap\n",
    "\n",
    "#Classifiers\n",
    "from xgboost import XGBClassifier\n",
    "from catboost import CatBoostClassifier\n",
    "\n",
    "\n",
    "from sklearn.model_selection import GridSearchCV\n",
    "\n",
    "from imblearn.over_sampling import RandomOverSampler, SMOTE, ADASYN\n",
    "from imblearn.under_sampling import RandomUnderSampler\n",
    "\n",
    "import time\n",
    "import warnings\n",
    "warnings.filterwarnings('ignore')\n"
   ]
  },
  {
   "cell_type": "code",
   "execution_count": 2,
   "id": "5b7e14b6-bd5c-4a33-a64b-15ffb8903d64",
   "metadata": {},
   "outputs": [
    {
     "data": {
      "text/html": [
       "<div>\n",
       "<style scoped>\n",
       "    .dataframe tbody tr th:only-of-type {\n",
       "        vertical-align: middle;\n",
       "    }\n",
       "\n",
       "    .dataframe tbody tr th {\n",
       "        vertical-align: top;\n",
       "    }\n",
       "\n",
       "    .dataframe thead th {\n",
       "        text-align: right;\n",
       "    }\n",
       "</style>\n",
       "<table border=\"1\" class=\"dataframe\">\n",
       "  <thead>\n",
       "    <tr style=\"text-align: right;\">\n",
       "      <th></th>\n",
       "      <th>PIPE_NO</th>\n",
       "      <th>DV_R</th>\n",
       "      <th>DA_R</th>\n",
       "      <th>AV_R</th>\n",
       "      <th>AA_R</th>\n",
       "      <th>PM_R</th>\n",
       "      <th>FIN_JGMT</th>\n",
       "    </tr>\n",
       "  </thead>\n",
       "  <tbody>\n",
       "    <tr>\n",
       "      <th>0</th>\n",
       "      <td>PP22033000042</td>\n",
       "      <td>318</td>\n",
       "      <td>7798</td>\n",
       "      <td>365</td>\n",
       "      <td>7177</td>\n",
       "      <td>9507</td>\n",
       "      <td>1</td>\n",
       "    </tr>\n",
       "    <tr>\n",
       "      <th>1</th>\n",
       "      <td>PP22033000042</td>\n",
       "      <td>318</td>\n",
       "      <td>7798</td>\n",
       "      <td>365</td>\n",
       "      <td>7177</td>\n",
       "      <td>9507</td>\n",
       "      <td>1</td>\n",
       "    </tr>\n",
       "    <tr>\n",
       "      <th>2</th>\n",
       "      <td>PP22033000042</td>\n",
       "      <td>316</td>\n",
       "      <td>8479</td>\n",
       "      <td>380</td>\n",
       "      <td>8846</td>\n",
       "      <td>9484</td>\n",
       "      <td>1</td>\n",
       "    </tr>\n",
       "    <tr>\n",
       "      <th>3</th>\n",
       "      <td>PP22033000042</td>\n",
       "      <td>316</td>\n",
       "      <td>8479</td>\n",
       "      <td>380</td>\n",
       "      <td>8846</td>\n",
       "      <td>9484</td>\n",
       "      <td>1</td>\n",
       "    </tr>\n",
       "    <tr>\n",
       "      <th>4</th>\n",
       "      <td>PP22033000042</td>\n",
       "      <td>309</td>\n",
       "      <td>7603</td>\n",
       "      <td>351</td>\n",
       "      <td>5726</td>\n",
       "      <td>9840</td>\n",
       "      <td>1</td>\n",
       "    </tr>\n",
       "  </tbody>\n",
       "</table>\n",
       "</div>"
      ],
      "text/plain": [
       "         PIPE_NO  DV_R  DA_R  AV_R  AA_R  PM_R  FIN_JGMT\n",
       "0  PP22033000042   318  7798   365  7177  9507         1\n",
       "1  PP22033000042   318  7798   365  7177  9507         1\n",
       "2  PP22033000042   316  8479   380  8846  9484         1\n",
       "3  PP22033000042   316  8479   380  8846  9484         1\n",
       "4  PP22033000042   309  7603   351  5726  9840         1"
      ]
     },
     "execution_count": 2,
     "metadata": {},
     "output_type": "execute_result"
    }
   ],
   "source": [
    "df = pd.read_csv('./dataset/Dataset.csv')\n",
    "df.head(5)"
   ]
  },
  {
   "cell_type": "code",
   "execution_count": 3,
   "id": "a7aafab9-4695-4c74-8d37-e1dfae42066a",
   "metadata": {},
   "outputs": [
    {
     "name": "stdout",
     "output_type": "stream",
     "text": [
      "<class 'pandas.core.frame.DataFrame'>\n",
      "RangeIndex: 739888 entries, 0 to 739887\n",
      "Data columns (total 7 columns):\n",
      " #   Column    Non-Null Count   Dtype \n",
      "---  ------    --------------   ----- \n",
      " 0   PIPE_NO   739888 non-null  object\n",
      " 1   DV_R      739888 non-null  int64 \n",
      " 2   DA_R      739888 non-null  int64 \n",
      " 3   AV_R      739888 non-null  int64 \n",
      " 4   AA_R      739888 non-null  int64 \n",
      " 5   PM_R      739888 non-null  int64 \n",
      " 6   FIN_JGMT  739888 non-null  int64 \n",
      "dtypes: int64(6), object(1)\n",
      "memory usage: 39.5+ MB\n"
     ]
    }
   ],
   "source": [
    "df.info()"
   ]
  },
  {
   "cell_type": "code",
   "execution_count": 4,
   "id": "f3903cf8-4318-4835-a8d2-a6b928e6e505",
   "metadata": {},
   "outputs": [
    {
     "name": "stdout",
     "output_type": "stream",
     "text": [
      "Current dataset contains:\n",
      "\n",
      "  5 numerical variables,\n",
      "     0 discrete variables: []\n",
      "     5 continuous variables: ['DV_R', 'DA_R', 'AV_R', 'AA_R', 'PM_R']\n",
      "\n",
      "  1 categorical variables: ['PIPE_NO']\n"
     ]
    }
   ],
   "source": [
    "#numerical: discrete & continuous\n",
    "discrete = [var for var in df.columns if df[var].dtype !='O' and var != 'FIN_JGMT' and df[var].nunique() < 10] \n",
    "continuous = [var for var in df.columns if df[var].dtype !='O' and var !='FIN_JGMT' and var not in discrete]\n",
    "\n",
    "#categorical \n",
    "categorical = [var for var in df.columns if df[var].dtype== 'O']\n",
    "\n",
    "print(\"Current dataset contains:\")\n",
    "print('\\n  {} numerical variables,'.format(len(discrete) + len(continuous), 'including:'))\n",
    "print('     {} discrete variables:'.format(len(discrete)), list(df[discrete].columns))\n",
    "print('     {} continuous variables:'.format(len(continuous)), list(df[continuous].columns))\n",
    "print('\\n  {} categorical variables:'.format(len(categorical)), list(df[categorical].columns))\n"
   ]
  },
  {
   "cell_type": "code",
   "execution_count": 5,
   "id": "2a5efad2-3ca0-49f9-b5a5-af7e943dc570",
   "metadata": {},
   "outputs": [
    {
     "data": {
      "text/html": [
       "<div>\n",
       "<style scoped>\n",
       "    .dataframe tbody tr th:only-of-type {\n",
       "        vertical-align: middle;\n",
       "    }\n",
       "\n",
       "    .dataframe tbody tr th {\n",
       "        vertical-align: top;\n",
       "    }\n",
       "\n",
       "    .dataframe thead th {\n",
       "        text-align: right;\n",
       "    }\n",
       "</style>\n",
       "<table border=\"1\" class=\"dataframe\">\n",
       "  <thead>\n",
       "    <tr style=\"text-align: right;\">\n",
       "      <th></th>\n",
       "      <th>DV_R</th>\n",
       "      <th>DA_R</th>\n",
       "      <th>AV_R</th>\n",
       "      <th>AA_R</th>\n",
       "      <th>PM_R</th>\n",
       "      <th>FIN_JGMT</th>\n",
       "    </tr>\n",
       "  </thead>\n",
       "  <tbody>\n",
       "    <tr>\n",
       "      <th>count</th>\n",
       "      <td>739888.000000</td>\n",
       "      <td>739888.000000</td>\n",
       "      <td>739888.000000</td>\n",
       "      <td>739888.000000</td>\n",
       "      <td>7.398880e+05</td>\n",
       "      <td>739888.000000</td>\n",
       "    </tr>\n",
       "    <tr>\n",
       "      <th>mean</th>\n",
       "      <td>326.640292</td>\n",
       "      <td>6890.474566</td>\n",
       "      <td>376.151258</td>\n",
       "      <td>5760.547448</td>\n",
       "      <td>9.609554e+03</td>\n",
       "      <td>0.846198</td>\n",
       "    </tr>\n",
       "    <tr>\n",
       "      <th>std</th>\n",
       "      <td>254.756693</td>\n",
       "      <td>1340.889458</td>\n",
       "      <td>455.283380</td>\n",
       "      <td>758.968542</td>\n",
       "      <td>8.761484e+04</td>\n",
       "      <td>0.360759</td>\n",
       "    </tr>\n",
       "    <tr>\n",
       "      <th>min</th>\n",
       "      <td>1.000000</td>\n",
       "      <td>1.000000</td>\n",
       "      <td>11.000000</td>\n",
       "      <td>1.000000</td>\n",
       "      <td>2.000000e+00</td>\n",
       "      <td>0.000000</td>\n",
       "    </tr>\n",
       "    <tr>\n",
       "      <th>25%</th>\n",
       "      <td>309.000000</td>\n",
       "      <td>6156.000000</td>\n",
       "      <td>341.000000</td>\n",
       "      <td>5631.000000</td>\n",
       "      <td>9.285000e+03</td>\n",
       "      <td>1.000000</td>\n",
       "    </tr>\n",
       "    <tr>\n",
       "      <th>50%</th>\n",
       "      <td>310.000000</td>\n",
       "      <td>6979.000000</td>\n",
       "      <td>349.000000</td>\n",
       "      <td>5818.000000</td>\n",
       "      <td>9.569000e+03</td>\n",
       "      <td>1.000000</td>\n",
       "    </tr>\n",
       "    <tr>\n",
       "      <th>75%</th>\n",
       "      <td>316.000000</td>\n",
       "      <td>7857.000000</td>\n",
       "      <td>354.000000</td>\n",
       "      <td>5993.000000</td>\n",
       "      <td>9.832000e+03</td>\n",
       "      <td>1.000000</td>\n",
       "    </tr>\n",
       "    <tr>\n",
       "      <th>max</th>\n",
       "      <td>12680.000000</td>\n",
       "      <td>13701.000000</td>\n",
       "      <td>10984.000000</td>\n",
       "      <td>78935.000000</td>\n",
       "      <td>5.076137e+07</td>\n",
       "      <td>1.000000</td>\n",
       "    </tr>\n",
       "  </tbody>\n",
       "</table>\n",
       "</div>"
      ],
      "text/plain": [
       "                DV_R           DA_R           AV_R           AA_R  \\\n",
       "count  739888.000000  739888.000000  739888.000000  739888.000000   \n",
       "mean      326.640292    6890.474566     376.151258    5760.547448   \n",
       "std       254.756693    1340.889458     455.283380     758.968542   \n",
       "min         1.000000       1.000000      11.000000       1.000000   \n",
       "25%       309.000000    6156.000000     341.000000    5631.000000   \n",
       "50%       310.000000    6979.000000     349.000000    5818.000000   \n",
       "75%       316.000000    7857.000000     354.000000    5993.000000   \n",
       "max     12680.000000   13701.000000   10984.000000   78935.000000   \n",
       "\n",
       "               PM_R       FIN_JGMT  \n",
       "count  7.398880e+05  739888.000000  \n",
       "mean   9.609554e+03       0.846198  \n",
       "std    8.761484e+04       0.360759  \n",
       "min    2.000000e+00       0.000000  \n",
       "25%    9.285000e+03       1.000000  \n",
       "50%    9.569000e+03       1.000000  \n",
       "75%    9.832000e+03       1.000000  \n",
       "max    5.076137e+07       1.000000  "
      ]
     },
     "execution_count": 5,
     "metadata": {},
     "output_type": "execute_result"
    }
   ],
   "source": [
    "df.describe()"
   ]
  },
  {
   "cell_type": "markdown",
   "id": "81fb740b-cdf4-4ad8-80dd-50fb55306210",
   "metadata": {},
   "source": [
    "- **DV_R** - Arc voltage\r\n",
    "- **DA_R** - Arc current\r\n",
    "- **AV_R** - Wire feed speed\r\n",
    "- **AA_R** - Wire feed current\r\n",
    "- **PM_R** - Power"
   ]
  },
  {
   "cell_type": "code",
   "execution_count": 6,
   "id": "5b04147f-09bf-4e61-a80a-350fc6e3a38b",
   "metadata": {},
   "outputs": [
    {
     "data": {
      "text/plain": [
       "PIPE_NO     0\n",
       "DV_R        0\n",
       "DA_R        0\n",
       "AV_R        0\n",
       "AA_R        0\n",
       "PM_R        0\n",
       "FIN_JGMT    0\n",
       "dtype: int64"
      ]
     },
     "execution_count": 6,
     "metadata": {},
     "output_type": "execute_result"
    }
   ],
   "source": [
    "df.isnull().sum()"
   ]
  },
  {
   "cell_type": "code",
   "execution_count": 7,
   "id": "fb06978a-0590-4fe8-b2ae-c1303bb1e43d",
   "metadata": {},
   "outputs": [
    {
     "data": {
      "application/vnd.plotly.v1+json": {
       "config": {
        "plotlyServerURL": "https://plot.ly"
       },
       "data": [
        {
         "domain": {
          "x": [
           0,
           1
          ],
          "y": [
           0,
           1
          ]
         },
         "hovertemplate": "label=%{label}<br>value=%{value}<extra></extra>",
         "labels": [
          "Pass",
          "Fail"
         ],
         "legendgroup": "",
         "name": "",
         "showlegend": true,
         "type": "pie",
         "values": {
          "bdata": "rI0JAIS8AQA=",
          "dtype": "i4"
         }
        }
       ],
       "layout": {
        "height": 400,
        "legend": {
         "tracegroupgap": 0
        },
        "piecolorway": [
         "green",
         "red"
        ],
        "template": {
         "data": {
          "bar": [
           {
            "error_x": {
             "color": "#2a3f5f"
            },
            "error_y": {
             "color": "#2a3f5f"
            },
            "marker": {
             "line": {
              "color": "#E5ECF6",
              "width": 0.5
             },
             "pattern": {
              "fillmode": "overlay",
              "size": 10,
              "solidity": 0.2
             }
            },
            "type": "bar"
           }
          ],
          "barpolar": [
           {
            "marker": {
             "line": {
              "color": "#E5ECF6",
              "width": 0.5
             },
             "pattern": {
              "fillmode": "overlay",
              "size": 10,
              "solidity": 0.2
             }
            },
            "type": "barpolar"
           }
          ],
          "carpet": [
           {
            "aaxis": {
             "endlinecolor": "#2a3f5f",
             "gridcolor": "white",
             "linecolor": "white",
             "minorgridcolor": "white",
             "startlinecolor": "#2a3f5f"
            },
            "baxis": {
             "endlinecolor": "#2a3f5f",
             "gridcolor": "white",
             "linecolor": "white",
             "minorgridcolor": "white",
             "startlinecolor": "#2a3f5f"
            },
            "type": "carpet"
           }
          ],
          "choropleth": [
           {
            "colorbar": {
             "outlinewidth": 0,
             "ticks": ""
            },
            "type": "choropleth"
           }
          ],
          "contour": [
           {
            "colorbar": {
             "outlinewidth": 0,
             "ticks": ""
            },
            "colorscale": [
             [
              0,
              "#0d0887"
             ],
             [
              0.1111111111111111,
              "#46039f"
             ],
             [
              0.2222222222222222,
              "#7201a8"
             ],
             [
              0.3333333333333333,
              "#9c179e"
             ],
             [
              0.4444444444444444,
              "#bd3786"
             ],
             [
              0.5555555555555556,
              "#d8576b"
             ],
             [
              0.6666666666666666,
              "#ed7953"
             ],
             [
              0.7777777777777778,
              "#fb9f3a"
             ],
             [
              0.8888888888888888,
              "#fdca26"
             ],
             [
              1,
              "#f0f921"
             ]
            ],
            "type": "contour"
           }
          ],
          "contourcarpet": [
           {
            "colorbar": {
             "outlinewidth": 0,
             "ticks": ""
            },
            "type": "contourcarpet"
           }
          ],
          "heatmap": [
           {
            "colorbar": {
             "outlinewidth": 0,
             "ticks": ""
            },
            "colorscale": [
             [
              0,
              "#0d0887"
             ],
             [
              0.1111111111111111,
              "#46039f"
             ],
             [
              0.2222222222222222,
              "#7201a8"
             ],
             [
              0.3333333333333333,
              "#9c179e"
             ],
             [
              0.4444444444444444,
              "#bd3786"
             ],
             [
              0.5555555555555556,
              "#d8576b"
             ],
             [
              0.6666666666666666,
              "#ed7953"
             ],
             [
              0.7777777777777778,
              "#fb9f3a"
             ],
             [
              0.8888888888888888,
              "#fdca26"
             ],
             [
              1,
              "#f0f921"
             ]
            ],
            "type": "heatmap"
           }
          ],
          "histogram": [
           {
            "marker": {
             "pattern": {
              "fillmode": "overlay",
              "size": 10,
              "solidity": 0.2
             }
            },
            "type": "histogram"
           }
          ],
          "histogram2d": [
           {
            "colorbar": {
             "outlinewidth": 0,
             "ticks": ""
            },
            "colorscale": [
             [
              0,
              "#0d0887"
             ],
             [
              0.1111111111111111,
              "#46039f"
             ],
             [
              0.2222222222222222,
              "#7201a8"
             ],
             [
              0.3333333333333333,
              "#9c179e"
             ],
             [
              0.4444444444444444,
              "#bd3786"
             ],
             [
              0.5555555555555556,
              "#d8576b"
             ],
             [
              0.6666666666666666,
              "#ed7953"
             ],
             [
              0.7777777777777778,
              "#fb9f3a"
             ],
             [
              0.8888888888888888,
              "#fdca26"
             ],
             [
              1,
              "#f0f921"
             ]
            ],
            "type": "histogram2d"
           }
          ],
          "histogram2dcontour": [
           {
            "colorbar": {
             "outlinewidth": 0,
             "ticks": ""
            },
            "colorscale": [
             [
              0,
              "#0d0887"
             ],
             [
              0.1111111111111111,
              "#46039f"
             ],
             [
              0.2222222222222222,
              "#7201a8"
             ],
             [
              0.3333333333333333,
              "#9c179e"
             ],
             [
              0.4444444444444444,
              "#bd3786"
             ],
             [
              0.5555555555555556,
              "#d8576b"
             ],
             [
              0.6666666666666666,
              "#ed7953"
             ],
             [
              0.7777777777777778,
              "#fb9f3a"
             ],
             [
              0.8888888888888888,
              "#fdca26"
             ],
             [
              1,
              "#f0f921"
             ]
            ],
            "type": "histogram2dcontour"
           }
          ],
          "mesh3d": [
           {
            "colorbar": {
             "outlinewidth": 0,
             "ticks": ""
            },
            "type": "mesh3d"
           }
          ],
          "parcoords": [
           {
            "line": {
             "colorbar": {
              "outlinewidth": 0,
              "ticks": ""
             }
            },
            "type": "parcoords"
           }
          ],
          "pie": [
           {
            "automargin": true,
            "type": "pie"
           }
          ],
          "scatter": [
           {
            "fillpattern": {
             "fillmode": "overlay",
             "size": 10,
             "solidity": 0.2
            },
            "type": "scatter"
           }
          ],
          "scatter3d": [
           {
            "line": {
             "colorbar": {
              "outlinewidth": 0,
              "ticks": ""
             }
            },
            "marker": {
             "colorbar": {
              "outlinewidth": 0,
              "ticks": ""
             }
            },
            "type": "scatter3d"
           }
          ],
          "scattercarpet": [
           {
            "marker": {
             "colorbar": {
              "outlinewidth": 0,
              "ticks": ""
             }
            },
            "type": "scattercarpet"
           }
          ],
          "scattergeo": [
           {
            "marker": {
             "colorbar": {
              "outlinewidth": 0,
              "ticks": ""
             }
            },
            "type": "scattergeo"
           }
          ],
          "scattergl": [
           {
            "marker": {
             "colorbar": {
              "outlinewidth": 0,
              "ticks": ""
             }
            },
            "type": "scattergl"
           }
          ],
          "scattermap": [
           {
            "marker": {
             "colorbar": {
              "outlinewidth": 0,
              "ticks": ""
             }
            },
            "type": "scattermap"
           }
          ],
          "scattermapbox": [
           {
            "marker": {
             "colorbar": {
              "outlinewidth": 0,
              "ticks": ""
             }
            },
            "type": "scattermapbox"
           }
          ],
          "scatterpolar": [
           {
            "marker": {
             "colorbar": {
              "outlinewidth": 0,
              "ticks": ""
             }
            },
            "type": "scatterpolar"
           }
          ],
          "scatterpolargl": [
           {
            "marker": {
             "colorbar": {
              "outlinewidth": 0,
              "ticks": ""
             }
            },
            "type": "scatterpolargl"
           }
          ],
          "scatterternary": [
           {
            "marker": {
             "colorbar": {
              "outlinewidth": 0,
              "ticks": ""
             }
            },
            "type": "scatterternary"
           }
          ],
          "surface": [
           {
            "colorbar": {
             "outlinewidth": 0,
             "ticks": ""
            },
            "colorscale": [
             [
              0,
              "#0d0887"
             ],
             [
              0.1111111111111111,
              "#46039f"
             ],
             [
              0.2222222222222222,
              "#7201a8"
             ],
             [
              0.3333333333333333,
              "#9c179e"
             ],
             [
              0.4444444444444444,
              "#bd3786"
             ],
             [
              0.5555555555555556,
              "#d8576b"
             ],
             [
              0.6666666666666666,
              "#ed7953"
             ],
             [
              0.7777777777777778,
              "#fb9f3a"
             ],
             [
              0.8888888888888888,
              "#fdca26"
             ],
             [
              1,
              "#f0f921"
             ]
            ],
            "type": "surface"
           }
          ],
          "table": [
           {
            "cells": {
             "fill": {
              "color": "#EBF0F8"
             },
             "line": {
              "color": "white"
             }
            },
            "header": {
             "fill": {
              "color": "#C8D4E3"
             },
             "line": {
              "color": "white"
             }
            },
            "type": "table"
           }
          ]
         },
         "layout": {
          "annotationdefaults": {
           "arrowcolor": "#2a3f5f",
           "arrowhead": 0,
           "arrowwidth": 1
          },
          "autotypenumbers": "strict",
          "coloraxis": {
           "colorbar": {
            "outlinewidth": 0,
            "ticks": ""
           }
          },
          "colorscale": {
           "diverging": [
            [
             0,
             "#8e0152"
            ],
            [
             0.1,
             "#c51b7d"
            ],
            [
             0.2,
             "#de77ae"
            ],
            [
             0.3,
             "#f1b6da"
            ],
            [
             0.4,
             "#fde0ef"
            ],
            [
             0.5,
             "#f7f7f7"
            ],
            [
             0.6,
             "#e6f5d0"
            ],
            [
             0.7,
             "#b8e186"
            ],
            [
             0.8,
             "#7fbc41"
            ],
            [
             0.9,
             "#4d9221"
            ],
            [
             1,
             "#276419"
            ]
           ],
           "sequential": [
            [
             0,
             "#0d0887"
            ],
            [
             0.1111111111111111,
             "#46039f"
            ],
            [
             0.2222222222222222,
             "#7201a8"
            ],
            [
             0.3333333333333333,
             "#9c179e"
            ],
            [
             0.4444444444444444,
             "#bd3786"
            ],
            [
             0.5555555555555556,
             "#d8576b"
            ],
            [
             0.6666666666666666,
             "#ed7953"
            ],
            [
             0.7777777777777778,
             "#fb9f3a"
            ],
            [
             0.8888888888888888,
             "#fdca26"
            ],
            [
             1,
             "#f0f921"
            ]
           ],
           "sequentialminus": [
            [
             0,
             "#0d0887"
            ],
            [
             0.1111111111111111,
             "#46039f"
            ],
            [
             0.2222222222222222,
             "#7201a8"
            ],
            [
             0.3333333333333333,
             "#9c179e"
            ],
            [
             0.4444444444444444,
             "#bd3786"
            ],
            [
             0.5555555555555556,
             "#d8576b"
            ],
            [
             0.6666666666666666,
             "#ed7953"
            ],
            [
             0.7777777777777778,
             "#fb9f3a"
            ],
            [
             0.8888888888888888,
             "#fdca26"
            ],
            [
             1,
             "#f0f921"
            ]
           ]
          },
          "colorway": [
           "#636efa",
           "#EF553B",
           "#00cc96",
           "#ab63fa",
           "#FFA15A",
           "#19d3f3",
           "#FF6692",
           "#B6E880",
           "#FF97FF",
           "#FECB52"
          ],
          "font": {
           "color": "#2a3f5f"
          },
          "geo": {
           "bgcolor": "white",
           "lakecolor": "white",
           "landcolor": "#E5ECF6",
           "showlakes": true,
           "showland": true,
           "subunitcolor": "white"
          },
          "hoverlabel": {
           "align": "left"
          },
          "hovermode": "closest",
          "mapbox": {
           "style": "light"
          },
          "paper_bgcolor": "white",
          "plot_bgcolor": "#E5ECF6",
          "polar": {
           "angularaxis": {
            "gridcolor": "white",
            "linecolor": "white",
            "ticks": ""
           },
           "bgcolor": "#E5ECF6",
           "radialaxis": {
            "gridcolor": "white",
            "linecolor": "white",
            "ticks": ""
           }
          },
          "scene": {
           "xaxis": {
            "backgroundcolor": "#E5ECF6",
            "gridcolor": "white",
            "gridwidth": 2,
            "linecolor": "white",
            "showbackground": true,
            "ticks": "",
            "zerolinecolor": "white"
           },
           "yaxis": {
            "backgroundcolor": "#E5ECF6",
            "gridcolor": "white",
            "gridwidth": 2,
            "linecolor": "white",
            "showbackground": true,
            "ticks": "",
            "zerolinecolor": "white"
           },
           "zaxis": {
            "backgroundcolor": "#E5ECF6",
            "gridcolor": "white",
            "gridwidth": 2,
            "linecolor": "white",
            "showbackground": true,
            "ticks": "",
            "zerolinecolor": "white"
           }
          },
          "shapedefaults": {
           "line": {
            "color": "#2a3f5f"
           }
          },
          "ternary": {
           "aaxis": {
            "gridcolor": "white",
            "linecolor": "white",
            "ticks": ""
           },
           "baxis": {
            "gridcolor": "white",
            "linecolor": "white",
            "ticks": ""
           },
           "bgcolor": "#E5ECF6",
           "caxis": {
            "gridcolor": "white",
            "linecolor": "white",
            "ticks": ""
           }
          },
          "title": {
           "x": 0.05
          },
          "xaxis": {
           "automargin": true,
           "gridcolor": "white",
           "linecolor": "white",
           "ticks": "",
           "title": {
            "standoff": 15
           },
           "zerolinecolor": "white",
           "zerolinewidth": 2
          },
          "yaxis": {
           "automargin": true,
           "gridcolor": "white",
           "linecolor": "white",
           "ticks": "",
           "title": {
            "standoff": 15
           },
           "zerolinecolor": "white",
           "zerolinewidth": 2
          }
         }
        },
        "title": {
         "text": "Pass or Fail"
        },
        "width": 700
       }
      }
     },
     "metadata": {},
     "output_type": "display_data"
    }
   ],
   "source": [
    "labels = ['Pass', 'Fail']\n",
    "\n",
    "Pass_or_Fail = df['FIN_JGMT'].value_counts().tolist()\n",
    "values = [Pass_or_Fail[0], Pass_or_Fail[1]]\n",
    "\n",
    "fig = px.pie(values=df['FIN_JGMT'].value_counts(), names=labels, \n",
    "            width=700, height=400,\n",
    "            color_discrete_sequence=['green', 'red'], \n",
    "            title='Pass or Fail')\n",
    "fig.show()"
   ]
  },
  {
   "cell_type": "markdown",
   "id": "9d77eee0-8b64-4a08-90f1-a7617c24354c",
   "metadata": {},
   "source": [
    "#### <span style='color:red'> We can notice that the ratio of our defective parts to normal parts is 6 to one"
   ]
  },
  {
   "cell_type": "code",
   "execution_count": 8,
   "id": "a5fa75b9-802e-42f0-b369-18541773ab78",
   "metadata": {},
   "outputs": [
    {
     "data": {
      "text/plain": [
       "<Axes: >"
      ]
     },
     "execution_count": 8,
     "metadata": {},
     "output_type": "execute_result"
    },
    {
     "data": {
      "image/png": "[encoded data removed]",
      "text/plain": [
       "<Figure size 640x480 with 2 Axes>"
      ]
     },
     "metadata": {},
     "output_type": "display_data"
    }
   ],
   "source": [
    "#correlation coeffitients with heatmap \n",
    "df_corr = df.drop(['PIPE_NO'], axis=1)\n",
    "corr = df_corr.corr()\n",
    "\n",
    "sns.heatmap(\n",
    "    corr, \n",
    "    annot= True,\n",
    "    xticklabels=corr.columns.values, \n",
    "    yticklabels=corr.columns.values\n",
    ")"
   ]
  },
  {
   "cell_type": "markdown",
   "id": "3553da6e-a19b-4de0-b9bf-14d8f1a97a41",
   "metadata": {},
   "source": [
    "#### <span style='color:red'>From the correlation matrix we can notice that our changes do not correlate"
   ]
  },
  {
   "cell_type": "code",
   "execution_count": 9,
   "id": "8192567f-b7bd-4166-bc31-561e92272341",
   "metadata": {},
   "outputs": [],
   "source": [
    "# drop PIPE_NO columns and split data\n",
    "X = df.drop(['PIPE_NO', 'FIN_JGMT'], axis=1)\n",
    "y = df['FIN_JGMT']"
   ]
  },
  {
   "cell_type": "code",
   "execution_count": 10,
   "id": "c56022d6-211a-4f66-91d1-0ea6d0765bfc",
   "metadata": {},
   "outputs": [
    {
     "data": {
      "text/plain": [
       "((591910, 5), (147978, 5))"
      ]
     },
     "execution_count": 10,
     "metadata": {},
     "output_type": "execute_result"
    }
   ],
   "source": [
    "X_train, X_test, y_train, y_test = train_test_split(\n",
    "    X, \n",
    "    y, \n",
    "    test_size=0.2, \n",
    "    random_state=42, \n",
    "    stratify=y\n",
    ")\n",
    "\n",
    "X_train.shape, X_test.shape"
   ]
  },
  {
   "cell_type": "markdown",
   "id": "7e2f47fa-ed9c-4895-82b0-68e4f9428603",
   "metadata": {},
   "source": [
    "### <span style='color:green'>Definition of balancing methods"
   ]
  },
  {
   "cell_type": "code",
   "execution_count": 11,
   "id": "94d27ffe-bbfd-44cc-b3ea-2068b9c29781",
   "metadata": {},
   "outputs": [],
   "source": [
    "balancing_methods = {\n",
    "    'No Balancing': None, \n",
    "    'RandomOverSampler': RandomOverSampler(random_state=42), \n",
    "    'RandomUnderSampler': RandomUnderSampler(random_state=42),\n",
    "    'SMOTE': SMOTE(random_state=42), \n",
    "    'ADASYN': ADASYN(random_state=42)\n",
    "}"
   ]
  },
  {
   "cell_type": "markdown",
   "id": "32db060d-7a06-48d3-be44-144982e35788",
   "metadata": {},
   "source": [
    "### <span style='color:green'>Models Definition"
   ]
  },
  {
   "cell_type": "code",
   "execution_count": 12,
   "id": "d7835e62-c4c9-4a5b-8f2f-f98b809a240a",
   "metadata": {},
   "outputs": [],
   "source": [
    "models = {\n",
    "    'XGBoost': XGBClassifier(random_state=42, eval_metric='logloss'), \n",
    "    'CatBoost': CatBoostClassifier(random_state=42, verbose=False)\n",
    "}"
   ]
  },
  {
   "cell_type": "markdown",
   "id": "5c5ac2d2-87e9-4c2d-8fa1-5b548a520da9",
   "metadata": {},
   "source": [
    "### <span style='color:green'> Grid_search Parameters"
   ]
  },
  {
   "cell_type": "code",
   "execution_count": 13,
   "id": "2d14e369-73f5-4971-bb9c-a26640ee4dab",
   "metadata": {},
   "outputs": [],
   "source": [
    "param_grids = {\n",
    "    \n",
    "    'XGBoost': {\n",
    "        'n_estimators': [50, 100], \n",
    "        'max_depth': [3, 6], \n",
    "        'learning_rate':[0.1, 0.2]\n",
    "    }, \n",
    "    'CatBoost': { \n",
    "        'iterations': [50, 100],\n",
    "        'depth': [4, 6], \n",
    "        'learning_rate': [0.1, 0.2]\n",
    "    }\n",
    "}"
   ]
  },
  {
   "cell_type": "code",
   "execution_count": 14,
   "id": "82f3b3a6-402c-4ed5-857b-c808e85fbb70",
   "metadata": {},
   "outputs": [],
   "source": [
    "results = []"
   ]
  },
  {
   "cell_type": "markdown",
   "id": "424e0358-a212-40f8-9588-8806c06bf520",
   "metadata": {},
   "source": [
    "### <span style='color:red'> Training models with different balancing methods"
   ]
  },
  {
   "cell_type": "code",
   "execution_count": 15,
   "id": "911cbca9-f612-4ac9-b01a-af8151aec8d3",
   "metadata": {},
   "outputs": [
    {
     "name": "stdout",
     "output_type": "stream",
     "text": [
      "\n",
      "+++ Balancing Methods: No Balancing +++\n",
      "Balanced Size: (591910, 5)\n",
      "Class distribution: Counter({1: 500873, 0: 91037})\n",
      "\n",
      "Training XGBoost\n",
      "Best Parametors: {'learning_rate': 0.2, 'max_depth': 6, 'n_estimators': 100}\n",
      "ROC_AUC train set: 0.9862\n",
      "ROC AUC test set: 0.9855\n",
      "F1 train_set: 0.9709\n",
      "F1 test_set: 0.9701\n",
      "Training Time: 12.50 sec.\n",
      "\n",
      " +++ Train Classification_Report +++\n",
      "              precision    recall  f1-score   support\n",
      "\n",
      "      Defect       0.89      0.77      0.83     91037\n",
      "      Normal       0.96      0.98      0.97    500873\n",
      "\n",
      "    accuracy                           0.95    591910\n",
      "   macro avg       0.93      0.88      0.90    591910\n",
      "weighted avg       0.95      0.95      0.95    591910\n",
      "\n",
      "\n",
      " +++ Test Classification_Report +++\n",
      "              precision    recall  f1-score   support\n",
      "\n",
      "      Defect       0.89      0.77      0.82     22759\n",
      "      Normal       0.96      0.98      0.97    125219\n",
      "\n",
      "    accuracy                           0.95    147978\n",
      "   macro avg       0.92      0.87      0.90    147978\n",
      "weighted avg       0.95      0.95      0.95    147978\n",
      "\n",
      "\n",
      "Training CatBoost\n",
      "Best Parametors: {'depth': 6, 'iterations': 100, 'learning_rate': 0.2}\n",
      "ROC_AUC train set: 0.9794\n",
      "ROC AUC test set: 0.9790\n",
      "F1 train_set: 0.9681\n",
      "F1 test_set: 0.9683\n",
      "Training Time: 38.32 sec.\n",
      "\n",
      " +++ Train Classification_Report +++\n",
      "              precision    recall  f1-score   support\n",
      "\n",
      "      Defect       0.94      0.68      0.79     91037\n",
      "      Normal       0.94      0.99      0.97    500873\n",
      "\n",
      "    accuracy                           0.94    591910\n",
      "   macro avg       0.94      0.84      0.88    591910\n",
      "weighted avg       0.94      0.94      0.94    591910\n",
      "\n",
      "\n",
      " +++ Test Classification_Report +++\n",
      "              precision    recall  f1-score   support\n",
      "\n",
      "      Defect       0.94      0.68      0.79     22759\n",
      "      Normal       0.95      0.99      0.97    125219\n",
      "\n",
      "    accuracy                           0.95    147978\n",
      "   macro avg       0.94      0.84      0.88    147978\n",
      "weighted avg       0.94      0.95      0.94    147978\n",
      "\n",
      "\n",
      "+++ Balancing Methods: RandomOverSampler +++\n",
      "Balanced Size: (1001746, 5)\n",
      "Class distribution: Counter({1: 500873, 0: 500873})\n",
      "\n",
      "Training XGBoost\n",
      "Best Parametors: {'learning_rate': 0.2, 'max_depth': 6, 'n_estimators': 100}\n",
      "ROC_AUC train set: 0.9864\n",
      "ROC AUC test set: 0.9857\n",
      "F1 train_set: 0.9351\n",
      "F1 test_set: 0.9468\n",
      "Training Time: 17.74 sec.\n",
      "\n",
      " +++ Train Classification_Report +++\n",
      "              precision    recall  f1-score   support\n",
      "\n",
      "      Defect       0.91      0.97      0.94    500873\n",
      "      Normal       0.97      0.91      0.94    500873\n",
      "\n",
      "    accuracy                           0.94   1001746\n",
      "   macro avg       0.94      0.94      0.94   1001746\n",
      "weighted avg       0.94      0.94      0.94   1001746\n",
      "\n",
      "\n",
      " +++ Test Classification_Report +++\n",
      "              precision    recall  f1-score   support\n",
      "\n",
      "      Defect       0.65      0.96      0.78     22759\n",
      "      Normal       0.99      0.91      0.95    125219\n",
      "\n",
      "    accuracy                           0.91    147978\n",
      "   macro avg       0.82      0.93      0.86    147978\n",
      "weighted avg       0.94      0.91      0.92    147978\n",
      "\n",
      "\n",
      "Training CatBoost\n",
      "Best Parametors: {'depth': 6, 'iterations': 100, 'learning_rate': 0.2}\n",
      "ROC_AUC train set: 0.9799\n",
      "ROC AUC test set: 0.9794\n",
      "F1 train_set: 0.9199\n",
      "F1 test_set: 0.9381\n",
      "Training Time: 54.09 sec.\n",
      "\n",
      " +++ Train Classification_Report +++\n",
      "              precision    recall  f1-score   support\n",
      "\n",
      "      Defect       0.90      0.95      0.92    500873\n",
      "      Normal       0.95      0.89      0.92    500873\n",
      "\n",
      "    accuracy                           0.92   1001746\n",
      "   macro avg       0.92      0.92      0.92   1001746\n",
      "weighted avg       0.92      0.92      0.92   1001746\n",
      "\n",
      "\n",
      " +++ Test Classification_Report +++\n",
      "              precision    recall  f1-score   support\n",
      "\n",
      "      Defect       0.61      0.95      0.75     22759\n",
      "      Normal       0.99      0.89      0.94    125219\n",
      "\n",
      "    accuracy                           0.90    147978\n",
      "   macro avg       0.80      0.92      0.84    147978\n",
      "weighted avg       0.93      0.90      0.91    147978\n",
      "\n",
      "\n",
      "+++ Balancing Methods: RandomUnderSampler +++\n",
      "Balanced Size: (182074, 5)\n",
      "Class distribution: Counter({0: 91037, 1: 91037})\n",
      "\n",
      "Training XGBoost\n",
      "Best Parametors: {'learning_rate': 0.2, 'max_depth': 6, 'n_estimators': 100}\n",
      "ROC_AUC train set: 0.9862\n",
      "ROC AUC test set: 0.9849\n",
      "F1 train_set: 0.9332\n",
      "F1 test_set: 0.9441\n",
      "Training Time: 4.08 sec.\n",
      "\n",
      " +++ Train Classification_Report +++\n",
      "              precision    recall  f1-score   support\n",
      "\n",
      "      Defect       0.91      0.97      0.94     91037\n",
      "      Normal       0.97      0.90      0.93     91037\n",
      "\n",
      "    accuracy                           0.94    182074\n",
      "   macro avg       0.94      0.94      0.94    182074\n",
      "weighted avg       0.94      0.94      0.94    182074\n",
      "\n",
      "\n",
      " +++ Test Classification_Report +++\n",
      "              precision    recall  f1-score   support\n",
      "\n",
      "      Defect       0.64      0.96      0.77     22759\n",
      "      Normal       0.99      0.90      0.94    125219\n",
      "\n",
      "    accuracy                           0.91    147978\n",
      "   macro avg       0.81      0.93      0.86    147978\n",
      "weighted avg       0.94      0.91      0.92    147978\n",
      "\n",
      "\n",
      "Training CatBoost\n",
      "Best Parametors: {'depth': 6, 'iterations': 100, 'learning_rate': 0.2}\n",
      "ROC_AUC train set: 0.9801\n",
      "ROC AUC test set: 0.9794\n",
      "F1 train_set: 0.9222\n",
      "F1 test_set: 0.9380\n",
      "Training Time: 11.89 sec.\n",
      "\n",
      " +++ Train Classification_Report +++\n",
      "              precision    recall  f1-score   support\n",
      "\n",
      "      Defect       0.90      0.96      0.93     91037\n",
      "      Normal       0.95      0.89      0.92     91037\n",
      "\n",
      "    accuracy                           0.92    182074\n",
      "   macro avg       0.93      0.92      0.92    182074\n",
      "weighted avg       0.93      0.92      0.92    182074\n",
      "\n",
      "\n",
      " +++ Test Classification_Report +++\n",
      "              precision    recall  f1-score   support\n",
      "\n",
      "      Defect       0.61      0.96      0.75     22759\n",
      "      Normal       0.99      0.89      0.94    125219\n",
      "\n",
      "    accuracy                           0.90    147978\n",
      "   macro avg       0.80      0.92      0.84    147978\n",
      "weighted avg       0.93      0.90      0.91    147978\n",
      "\n",
      "\n",
      "+++ Balancing Methods: SMOTE +++\n",
      "Balanced Size: (1001746, 5)\n",
      "Class distribution: Counter({1: 500873, 0: 500873})\n",
      "\n",
      "Training XGBoost\n",
      "Best Parametors: {'learning_rate': 0.2, 'max_depth': 6, 'n_estimators': 100}\n",
      "ROC_AUC train set: 0.9873\n",
      "ROC AUC test set: 0.9849\n",
      "F1 train_set: 0.9379\n",
      "F1 test_set: 0.9488\n",
      "Training Time: 17.68 sec.\n",
      "\n",
      " +++ Train Classification_Report +++\n",
      "              precision    recall  f1-score   support\n",
      "\n",
      "      Defect       0.92      0.97      0.94    500873\n",
      "      Normal       0.97      0.91      0.94    500873\n",
      "\n",
      "    accuracy                           0.94   1001746\n",
      "   macro avg       0.94      0.94      0.94   1001746\n",
      "weighted avg       0.94      0.94      0.94   1001746\n",
      "\n",
      "\n",
      " +++ Test Classification_Report +++\n",
      "              precision    recall  f1-score   support\n",
      "\n",
      "      Defect       0.66      0.95      0.78     22759\n",
      "      Normal       0.99      0.91      0.95    125219\n",
      "\n",
      "    accuracy                           0.92    147978\n",
      "   macro avg       0.82      0.93      0.86    147978\n",
      "weighted avg       0.94      0.92      0.92    147978\n",
      "\n",
      "\n",
      "Training CatBoost\n",
      "Best Parametors: {'depth': 6, 'iterations': 100, 'learning_rate': 0.2}\n",
      "ROC_AUC train set: 0.9815\n",
      "ROC AUC test set: 0.9791\n",
      "F1 train_set: 0.9254\n",
      "F1 test_set: 0.9415\n",
      "Training Time: 54.52 sec.\n",
      "\n",
      " +++ Train Classification_Report +++\n",
      "              precision    recall  f1-score   support\n",
      "\n",
      "      Defect       0.91      0.95      0.93    500873\n",
      "      Normal       0.95      0.90      0.93    500873\n",
      "\n",
      "    accuracy                           0.93   1001746\n",
      "   macro avg       0.93      0.93      0.93   1001746\n",
      "weighted avg       0.93      0.93      0.93   1001746\n",
      "\n",
      "\n",
      " +++ Test Classification_Report +++\n",
      "              precision    recall  f1-score   support\n",
      "\n",
      "      Defect       0.63      0.94      0.75     22759\n",
      "      Normal       0.99      0.90      0.94    125219\n",
      "\n",
      "    accuracy                           0.91    147978\n",
      "   macro avg       0.81      0.92      0.85    147978\n",
      "weighted avg       0.93      0.91      0.91    147978\n",
      "\n",
      "\n",
      "+++ Balancing Methods: ADASYN +++\n",
      "Balanced Size: (1005717, 5)\n",
      "Class distribution: Counter({0: 504844, 1: 500873})\n",
      "\n",
      "Training XGBoost\n",
      "Best Parametors: {'learning_rate': 0.2, 'max_depth': 6, 'n_estimators': 100}\n",
      "ROC_AUC train set: 0.9709\n",
      "ROC AUC test set: 0.9822\n",
      "F1 train_set: 0.9251\n",
      "F1 test_set: 0.9323\n",
      "Training Time: 16.67 sec.\n",
      "\n",
      " +++ Train Classification_Report +++\n",
      "              precision    recall  f1-score   support\n",
      "\n",
      "      Defect       0.89      0.98      0.93    504844\n",
      "      Normal       0.98      0.88      0.93    500873\n",
      "\n",
      "    accuracy                           0.93   1005717\n",
      "   macro avg       0.93      0.93      0.93   1005717\n",
      "weighted avg       0.93      0.93      0.93   1005717\n",
      "\n",
      "\n",
      " +++ Test Classification_Report +++\n",
      "              precision    recall  f1-score   support\n",
      "\n",
      "      Defect       0.59      0.98      0.74     22759\n",
      "      Normal       1.00      0.88      0.93    125219\n",
      "\n",
      "    accuracy                           0.89    147978\n",
      "   macro avg       0.79      0.93      0.83    147978\n",
      "weighted avg       0.93      0.89      0.90    147978\n",
      "\n",
      "\n",
      "Training CatBoost\n",
      "Best Parametors: {'depth': 6, 'iterations': 100, 'learning_rate': 0.2}\n",
      "ROC_AUC train set: 0.9577\n",
      "ROC AUC test set: 0.9631\n",
      "F1 train_set: 0.9083\n",
      "F1 test_set: 0.9202\n",
      "Training Time: 51.70 sec.\n",
      "\n",
      " +++ Train Classification_Report +++\n",
      "              precision    recall  f1-score   support\n",
      "\n",
      "      Defect       0.87      0.97      0.92    504844\n",
      "      Normal       0.97      0.86      0.91    500873\n",
      "\n",
      "    accuracy                           0.91   1005717\n",
      "   macro avg       0.92      0.91      0.91   1005717\n",
      "weighted avg       0.92      0.91      0.91   1005717\n",
      "\n",
      "\n",
      " +++ Test Classification_Report +++\n",
      "              precision    recall  f1-score   support\n",
      "\n",
      "      Defect       0.55      0.98      0.71     22759\n",
      "      Normal       1.00      0.86      0.92    125219\n",
      "\n",
      "    accuracy                           0.87    147978\n",
      "   macro avg       0.77      0.92      0.81    147978\n",
      "weighted avg       0.93      0.87      0.89    147978\n",
      "\n",
      "\n",
      "+++ FINISH +++\n"
     ]
    }
   ],
   "source": [
    "for balance_name, balance_method in balancing_methods.items(): \n",
    "    print(f'\\n+++ Balancing Methods: {balance_name} +++')\n",
    "\n",
    "    # Use balancing \n",
    "    if balance_method is None: \n",
    "        X_train_balanced = X_train\n",
    "        y_train_balanced = y_train\n",
    "    else: \n",
    "        X_train_balanced, y_train_balanced = balance_method.fit_resample(X_train, y_train)\n",
    "\n",
    "    print(f'Balanced Size: {X_train_balanced.shape}')\n",
    "    print(f'Class distribution: {Counter(y_train_balanced)}')\n",
    "\n",
    "\n",
    "    for model_name, model in models.items(): \n",
    "        print(f'\\nTraining {model_name}')\n",
    "\n",
    "        # Timer \n",
    "        start_time = time.time()\n",
    "\n",
    "        # Grid_search \n",
    "        grid_search = GridSearchCV(\n",
    "            model, \n",
    "            param_grids[model_name], \n",
    "            cv=3, \n",
    "            scoring='roc_auc', \n",
    "            n_jobs=-1, \n",
    "            verbose=0\n",
    "        )\n",
    "\n",
    "        grid_search.fit(X_train_balanced, y_train_balanced)\n",
    "\n",
    "        training_time = time.time() - start_time\n",
    "\n",
    "        best_model = grid_search.best_estimator_\n",
    "\n",
    "        #Preds \n",
    "        y_train_preds = best_model.predict(X_train_balanced)\n",
    "        y_test_pred = best_model.predict(X_test)\n",
    "\n",
    "        # Metrix \n",
    "        train_roc_auc = roc_auc_score(\n",
    "            y_train_balanced,\n",
    "            best_model.predict_proba(X_train_balanced)[:, 1])\n",
    "        \n",
    "        test_roc_auc = roc_auc_score(\n",
    "            y_test,\n",
    "            best_model.predict_proba(X_test)[:, 1])\n",
    "\n",
    "        train_f1 = f1_score(y_train_balanced, y_train_preds)\n",
    "        test_f1 = f1_score(y_test, y_test_pred)\n",
    "\n",
    "        # Cclassification_report\n",
    "\n",
    "        train_classification_report = classification_report(\n",
    "            y_train_balanced, y_train_preds, \n",
    "            target_names=['Defect', 'Normal'], \n",
    "            output_dict=True\n",
    "        )\n",
    "\n",
    "        test_classification_report = classification_report(\n",
    "            y_test, \n",
    "            y_test_pred, \n",
    "            target_names=['Defect', 'Normal'], \n",
    "            output_dict=True\n",
    "        )\n",
    "\n",
    "        # Save_Results\n",
    "        results.append({\n",
    "            'Balancing': balance_name, \n",
    "            'Model': model_name, \n",
    "            'Best_Params': grid_search.best_params_, \n",
    "            'Train_ROC_AUC': train_roc_auc, \n",
    "            'Test_ROC_AUC': test_roc_auc, \n",
    "            'Train_F1': train_f1,\n",
    "            'Test_F1': test_f1, \n",
    "            'Training_Time': training_time, \n",
    "            'Best_Model': best_model,\n",
    "            'Train_Classification_Report': train_classification_report, \n",
    "            'Test_Classification_Report': test_classification_report\n",
    "        })\n",
    "\n",
    "        print(f'Best Parametors: {grid_search.best_params_}')\n",
    "        print(f\"ROC_AUC train set: {train_roc_auc:.4f}\")\n",
    "        print(f'ROC AUC test set: {test_roc_auc:.4f}')\n",
    "        print(f'F1 train_set: {train_f1:.4f}')\n",
    "        print(f'F1 test_set: {test_f1:.4f}')\n",
    "        print(f'Training Time: {training_time:.2f} sec.')\n",
    "\n",
    "        print('\\n +++ Train Classification_Report +++')\n",
    "        print(classification_report(y_train_balanced, y_train_preds, \n",
    "                                   target_names=['Defect', 'Normal']))\n",
    "\n",
    "        print('\\n +++ Test Classification_Report +++')\n",
    "        print(classification_report(y_test, y_test_pred, \n",
    "                                   target_names=['Defect', 'Normal']))\n",
    "\n",
    "print('\\n+++ FINISH +++')"
   ]
  },
  {
   "cell_type": "code",
   "execution_count": 16,
   "id": "8e059c25-d855-44ae-bd87-688bca0fc929",
   "metadata": {},
   "outputs": [
    {
     "name": "stdout",
     "output_type": "stream",
     "text": [
      "            Balancing     Model  \\\n",
      "0        No Balancing   XGBoost   \n",
      "1        No Balancing  CatBoost   \n",
      "2   RandomOverSampler   XGBoost   \n",
      "3   RandomOverSampler  CatBoost   \n",
      "4  RandomUnderSampler   XGBoost   \n",
      "5  RandomUnderSampler  CatBoost   \n",
      "6               SMOTE   XGBoost   \n",
      "7               SMOTE  CatBoost   \n",
      "8              ADASYN   XGBoost   \n",
      "9              ADASYN  CatBoost   \n",
      "\n",
      "                                         Best_Params  Train_ROC_AUC  \\\n",
      "0  {'learning_rate': 0.2, 'max_depth': 6, 'n_esti...         0.9862   \n",
      "1  {'depth': 6, 'iterations': 100, 'learning_rate...         0.9794   \n",
      "2  {'learning_rate': 0.2, 'max_depth': 6, 'n_esti...         0.9864   \n",
      "3  {'depth': 6, 'iterations': 100, 'learning_rate...         0.9799   \n",
      "4  {'learning_rate': 0.2, 'max_depth': 6, 'n_esti...         0.9862   \n",
      "5  {'depth': 6, 'iterations': 100, 'learning_rate...         0.9801   \n",
      "6  {'learning_rate': 0.2, 'max_depth': 6, 'n_esti...         0.9873   \n",
      "7  {'depth': 6, 'iterations': 100, 'learning_rate...         0.9815   \n",
      "8  {'learning_rate': 0.2, 'max_depth': 6, 'n_esti...         0.9709   \n",
      "9  {'depth': 6, 'iterations': 100, 'learning_rate...         0.9577   \n",
      "\n",
      "   Test_ROC_AUC  Train_F1  Test_F1  Training_Time  \n",
      "0        0.9855    0.9709   0.9701          12.50  \n",
      "1        0.9790    0.9681   0.9683          38.32  \n",
      "2        0.9857    0.9351   0.9468          17.74  \n",
      "3        0.9794    0.9199   0.9381          54.09  \n",
      "4        0.9849    0.9332   0.9441           4.08  \n",
      "5        0.9794    0.9222   0.9380          11.89  \n",
      "6        0.9849    0.9379   0.9488          17.68  \n",
      "7        0.9791    0.9254   0.9415          54.52  \n",
      "8        0.9822    0.9251   0.9323          16.67  \n",
      "9        0.9631    0.9083   0.9202          51.70  \n",
      "\n",
      "\n",
      "+++ Best Model with ROC_AUC +++\n",
      "RandomOverSampler\n",
      "Model: XGBoost\n",
      "Best parameters: {'learning_rate': 0.2, 'max_depth': 6, 'n_estimators': 100}\n",
      "Train ROC_AUC: 0.9864\n",
      "Test ROC_AUC: 0.9857\n",
      "Train F1: 0.9351\n",
      "Test F1: 0.9468\n",
      "Training Time: 17.74 sec.\n"
     ]
    }
   ],
   "source": [
    "results_df = pd.DataFrame(results)\n",
    "\n",
    "display_df = results_df.drop(['Best_Model', 'Train_Classification_Report', 'Test_Classification_Report'], axis=1).copy()\n",
    "\n",
    "display_df['Train_ROC_AUC'] = display_df['Train_ROC_AUC'].round(4)\n",
    "display_df['Test_ROC_AUC'] = display_df['Test_ROC_AUC'].round(4)\n",
    "display_df['Train_F1'] = display_df['Train_F1'].round(4)\n",
    "display_df['Test_F1'] = display_df['Test_F1'].round(4)\n",
    "display_df['Training_Time'] = display_df['Training_Time'].round(2) \n",
    "\n",
    "print(display_df)\n",
    "\n",
    "best_idx = results_df['Test_ROC_AUC'].idxmax()\n",
    "best_result = results_df.iloc[best_idx]\n",
    "\n",
    "print(f'\\n\\n+++ Best Model with ROC_AUC +++')\n",
    "print(f'{best_result[\"Balancing\"]}')\n",
    "print(f'Model: {best_result[\"Model\"]}')\n",
    "print(f'Best parameters: {best_result[\"Best_Params\"]}')\n",
    "print(f'Train ROC_AUC: {best_result[\"Train_ROC_AUC\"]:.4f}')\n",
    "print(f'Test ROC_AUC: {best_result[\"Test_ROC_AUC\"]:.4f}')\n",
    "print(f'Train F1: {best_result[\"Train_F1\"]:.4f}')\n",
    "print(f'Test F1: {best_result[\"Test_F1\"]:.4f}')\n",
    "print(f'Training Time: {best_result[\"Training_Time\"]:.2f} sec.')\n",
    "\n",
    "best_model = best_result['Best_Model']"
   ]
  },
  {
   "cell_type": "code",
   "execution_count": 17,
   "id": "c7dcf704-7c0e-44e3-9e24-e09bd2248d84",
   "metadata": {},
   "outputs": [],
   "source": [
    "catboost_results = results_df[results_df['Model'] == 'CatBoost']\n",
    "best_catboost_idx = catboost_results['Test_ROC_AUC'].idxmax()\n",
    "best_catboost = results_df.iloc[best_catboost_idx]"
   ]
  },
  {
   "cell_type": "code",
   "execution_count": 18,
   "id": "66025c64-f8ea-4ba6-a36c-70dcdff41838",
   "metadata": {},
   "outputs": [
    {
     "name": "stdout",
     "output_type": "stream",
     "text": [
      "+++ Best Catboost Model +++\n",
      "\n",
      "Balancing : RandomUnderSampler\n",
      "Best Parameters : {'depth': 6, 'iterations': 100, 'learning_rate': 0.2}\n",
      "ROC_AUC on Train set : 0.9801\n",
      "ROC_AUC on Test set : 0.9794\n",
      "F1 on Train set : 0.9222\n",
      "F1 on Test set : 0.9380\n",
      "Training Time : 11.89 sec.\n"
     ]
    }
   ],
   "source": [
    "print('+++ Best Catboost Model +++')\n",
    "print(f'\\nBalancing : {best_catboost[\"Balancing\"]}')\n",
    "print(f'Best Parameters : {best_catboost[\"Best_Params\"]}')\n",
    "print(f'ROC_AUC on Train set : {best_catboost[\"Train_ROC_AUC\"]:.4f}')\n",
    "print(f'ROC_AUC on Test set : {best_catboost[\"Test_ROC_AUC\"]:.4f}')\n",
    "print(f'F1 on Train set : {best_catboost[\"Train_F1\"]:.4f}')\n",
    "print(f'F1 on Test set : {best_catboost[\"Test_F1\"]:.4f}')\n",
    "print(f'Training Time : {best_catboost[\"Training_Time\"]:.2f} sec.')"
   ]
  },
  {
   "cell_type": "code",
   "execution_count": 19,
   "id": "83b51e89-9ad2-4904-98f3-b2d29f17ce41",
   "metadata": {},
   "outputs": [],
   "source": [
    "best_catboost_model = best_catboost['Best_Model']\n",
    "y_test_pred_catboost = best_catboost_model.predict(X_test)"
   ]
  },
  {
   "cell_type": "code",
   "execution_count": 20,
   "id": "719f56f2-883e-4202-848d-643260946a04",
   "metadata": {},
   "outputs": [
    {
     "data": {
      "image/png": "[encoded data removed]",
      "text/plain": [
       "<Figure size 600x400 with 2 Axes>"
      ]
     },
     "metadata": {},
     "output_type": "display_data"
    }
   ],
   "source": [
    "cm = confusion_matrix(y_test, y_test_pred_catboost)\n",
    "\n",
    "plt.figure(figsize=[6, 4])\n",
    "sns.heatmap(cm, annot=True, fmt='d', cmap='Blues', \n",
    "           xticklabels=['Defect (0)', 'Normal (1)'], \n",
    "           yticklabels=['Defect (0)', 'Normal (1)'])\n",
    "plt.title(\"conf_matrix - best Catboost model\")\n",
    "plt.ylabel('True values')\n",
    "plt.xlabel('Predict values')\n",
    "plt.show()"
   ]
  },
  {
   "cell_type": "code",
   "execution_count": 21,
   "id": "d1c50c1f-99be-442f-b376-5cb924654ac4",
   "metadata": {},
   "outputs": [
    {
     "name": "stdout",
     "output_type": "stream",
     "text": [
      "              precision    recall  f1-score   support\n",
      "\n",
      "      Defect       0.61      0.96      0.75     22759\n",
      "      Normal       0.99      0.89      0.94    125219\n",
      "\n",
      "    accuracy                           0.90    147978\n",
      "   macro avg       0.80      0.92      0.84    147978\n",
      "weighted avg       0.93      0.90      0.91    147978\n",
      "\n"
     ]
    }
   ],
   "source": [
    "print(classification_report(y_test, y_test_pred_catboost, \n",
    "                           target_names=['Defect', 'Normal']))"
   ]
  },
  {
   "cell_type": "code",
   "execution_count": 22,
   "id": "8cba3542-beb3-4930-9317-18440f750a21",
   "metadata": {},
   "outputs": [
    {
     "name": "stdout",
     "output_type": "stream",
     "text": [
      "  feature  importance\n",
      "4    PM_R   46.363674\n",
      "1    DA_R   20.858159\n",
      "2    AV_R   13.267626\n",
      "0    DV_R   11.416097\n",
      "3    AA_R    8.094444\n"
     ]
    },
    {
     "data": {
      "image/png": "[encoded data removed]",
      "text/plain": [
       "<Figure size 600x400 with 1 Axes>"
      ]
     },
     "metadata": {},
     "output_type": "display_data"
    }
   ],
   "source": [
    "if hasattr(best_catboost_model, 'feature_importances_'): \n",
    "    feature_importance = pd.DataFrame({\n",
    "        'feature': X.columns, \n",
    "        'importance': best_catboost_model.feature_importances_\n",
    "    }).sort_values('importance', ascending=False)\n",
    "\n",
    "    print(feature_importance)\n",
    "    \n",
    "\n",
    "    plt.figure(figsize = [6, 4])\n",
    "    sns.barplot(data=feature_importance, x='importance', y='feature')\n",
    "    plt.title(\"Feature Importance - Catboost_Best_model\")\n",
    "    plt.xlabel('Importance')\n",
    "    plt.tight_layout()\n",
    "    plt.show()"
   ]
  },
  {
   "cell_type": "markdown",
   "id": "0119443f-2e98-47e5-ba8d-cc48df0c8fba",
   "metadata": {},
   "source": [
    "- **DV_R** - Arc voltage \r\n",
    "- **DA_R** - Arc curret\r\n",
    "- **AV_R** - Wire feed speed\r\n",
    "- **AA_R** - Wire feed current\r\n",
    "- **PM_R** - Power"
   ]
  },
  {
   "cell_type": "code",
   "execution_count": 48,
   "id": "78f8b99e-dd4a-4541-b611-85b9cb5f8d2c",
   "metadata": {},
   "outputs": [
    {
     "data": {
      "image/png": "[encoded data removed]",
      "text/plain": [
       "<Figure size 1500x1200 with 4 Axes>"
      ]
     },
     "metadata": {},
     "output_type": "display_data"
    }
   ],
   "source": [
    "fig, axes = plt.subplots(2, 2, figsize=(15, 12))\n",
    "fig.suptitle('Comparison of models by various metrics', fontsize=16, fontweight='bold')\n",
    "\n",
    "sns.barplot(data=display_df, x='Model', y='Test_ROC_AUC', hue='Balancing', ax=axes[0,0])\n",
    "axes[0,0].set_title('ROC AUC Test')\n",
    "axes[0,0].set_ylim(0.5, 1.0)\n",
    "axes[0,0].legend(bbox_to_anchor=(1.05, 1), loc='upper left')\n",
    "\n",
    "sns.barplot(data=display_df, x='Model', y='Train_ROC_AUC', hue='Balancing', ax=axes[0,1])\n",
    "axes[0,1].set_title('ROC AUC Train')\n",
    "axes[0,1].set_ylim(0.5, 1.0)\n",
    "axes[0,1].legend(bbox_to_anchor=(1.05, 1), loc='upper left')\n",
    "\n",
    "\n",
    "sns.barplot(data=display_df, x='Model', y='Test_F1', hue='Balancing', ax=axes[1,0])\n",
    "axes[1,0].set_title('F1 Score Test')\n",
    "axes[1,0].legend(bbox_to_anchor=(1.05, 1), loc='upper left')\n",
    "\n",
    "sns.barplot(data=display_df, x='Model', y='Training_Time', hue='Balancing', ax=axes[1,1])\n",
    "axes[1,1].set_title('Learning Time(sec.)')\n",
    "axes[1,1].legend(bbox_to_anchor=(1.05, 1), loc='upper left')\n",
    "\n",
    "plt.tight_layout()\n",
    "plt.show()"
   ]
  },
  {
   "cell_type": "code",
   "execution_count": null,
   "id": "627aeed0-b739-446f-af2d-6fe626fa9f7b",
   "metadata": {},
   "outputs": [],
   "source": []
  }
 ],
 "metadata": {
  "kernelspec": {
   "display_name": "Python 3 (ipykernel)",
   "language": "python",
   "name": "python3"
  },
  "language_info": {
   "codemirror_mode": {
    "name": "ipython",
    "version": 3
   },
   "file_extension": ".py",
   "mimetype": "text/x-python",
   "name": "python",
   "nbconvert_exporter": "python",
   "pygments_lexer": "ipython3",
   "version": "3.11.5"
  }
 },
 "nbformat": 4,
 "nbformat_minor": 5
}
